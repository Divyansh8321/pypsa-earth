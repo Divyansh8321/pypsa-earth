{
 "cells": [
  {
   "cell_type": "code",
   "execution_count": 18,
   "id": "66ee7f5c-1753-4d65-8894-c95d87df0a2f",
   "metadata": {},
   "outputs": [
    {
     "ename": "PermissionError",
     "evalue": "[Errno 13] Permission denied: 'kenya_electricity_demand_2030_custom.nc'",
     "output_type": "error",
     "traceback": [
      "\u001b[0;31m---------------------------------------------------------------------------\u001b[0m",
      "\u001b[0;31mPermissionError\u001b[0m                           Traceback (most recent call last)",
      "Cell \u001b[0;32mIn[18], line 9\u001b[0m\n\u001b[1;32m      6\u001b[0m new_file_path \u001b[38;5;241m=\u001b[39m \u001b[38;5;124m'\u001b[39m\u001b[38;5;124mkenya_electricity_demand_2030_custom.nc\u001b[39m\u001b[38;5;124m'\u001b[39m\n\u001b[1;32m      8\u001b[0m \u001b[38;5;66;03m# Create a new NetCDF file\u001b[39;00m\n\u001b[0;32m----> 9\u001b[0m dataset \u001b[38;5;241m=\u001b[39m nc\u001b[38;5;241m.\u001b[39mDataset(new_file_path, \u001b[38;5;124m'\u001b[39m\u001b[38;5;124mw\u001b[39m\u001b[38;5;124m'\u001b[39m, \u001b[38;5;28mformat\u001b[39m\u001b[38;5;241m=\u001b[39m\u001b[38;5;124m'\u001b[39m\u001b[38;5;124mNETCDF4\u001b[39m\u001b[38;5;124m'\u001b[39m)\n\u001b[1;32m     11\u001b[0m \u001b[38;5;66;03m# Define dimensions\u001b[39;00m\n\u001b[1;32m     12\u001b[0m region_code_dim \u001b[38;5;241m=\u001b[39m dataset\u001b[38;5;241m.\u001b[39mcreateDimension(\u001b[38;5;124m'\u001b[39m\u001b[38;5;124mregion_code\u001b[39m\u001b[38;5;124m'\u001b[39m, \u001b[38;5;241m1\u001b[39m)  \u001b[38;5;66;03m# Only one region ('KE')\u001b[39;00m\n",
      "File \u001b[0;32msrc/netCDF4/_netCDF4.pyx:2469\u001b[0m, in \u001b[0;36mnetCDF4._netCDF4.Dataset.__init__\u001b[0;34m()\u001b[0m\n",
      "File \u001b[0;32msrc/netCDF4/_netCDF4.pyx:2028\u001b[0m, in \u001b[0;36mnetCDF4._netCDF4._ensure_nc_success\u001b[0;34m()\u001b[0m\n",
      "\u001b[0;31mPermissionError\u001b[0m: [Errno 13] Permission denied: 'kenya_electricity_demand_2030_custom.nc'"
     ]
    }
   ],
   "source": [
    "import netCDF4 as nc\n",
    "import numpy as np\n",
    "import pandas as pd \n",
    "\n",
    "# Specify the path for your new NetCDF file\n",
    "new_file_path = 'kenya_electricity_demand_2030_custom.nc'\n",
    "\n",
    "# Create a new NetCDF file\n",
    "dataset = nc.Dataset(new_file_path, 'w', format='NETCDF4')\n",
    "\n",
    "# Define dimensions\n",
    "region_code_dim = dataset.createDimension('region_code', 1)  # Only one region ('KE')\n",
    "string2_dim = dataset.createDimension('string2', 2)\n",
    "time_dim = dataset.createDimension('time', 8760)\n",
    "string32_dim = dataset.createDimension('string32', 32)\n",
    "\n",
    "# Define variables\n",
    "times = dataset.createVariable('time', np.int32, ('time',))\n",
    "times.units = 'hours since 2018-01-01 00:00:00'\n",
    "times.calendar = 'proleptic_gregorian'\n",
    "\n",
    "electricity_demand = dataset.createVariable('Electricity demand', np.float64, ('region_code', 'time',))\n",
    "electricity_demand.unit = 'MWh'\n",
    "electricity_demand.energy_carrier = 'electricity'\n",
    "electricity_demand.description = 'Projected electricity demand for Kenya'\n",
    "electricity_demand.projection_year = 2030\n",
    "electricity_demand.weather_data_year = 2018\n",
    "electricity_demand.SSP_scenario = 'ssp2'\n",
    "electricity_demand.RCP_scenario = '2.6'\n",
    "electricity_demand.coordinates = 'region_name'\n",
    "\n",
    "region_names = dataset.createVariable('region_name', str, ('region_code', 'string32',))\n",
    "region_names._Encoding = 'utf-8'\n",
    "\n",
    "region_codes = dataset.createVariable('region_code', str, ('region_code', 'string2',))\n",
    "region_codes._Encoding = 'utf-8'\n",
    "\n",
    "# Add data to variables\n",
    "times[:] = np.arange(8760)  # Time data from 0 to 8759 hours\n",
    "\n",
    "electricity_demand[:, :] = kenya_electricity_demand_data\n",
    "\n",
    "region_names[0, :] = list('Kenya'.ljust(32))  # Fill 'Kenya' and pad with spaces to match the length of 32\n",
    "region_codes[0, :] = list('KE'.ljust(2))  # Fill 'KE' and pad with spaces to match the length of 2\n",
    "\n",
    "# Close the dataset\n",
    "dataset.close()\n",
    "\n",
    "print(f\"NetCDF file '{new_file_path}' created successfully.\")\n"
   ]
  },
  {
   "cell_type": "code",
   "execution_count": 14,
   "id": "3303802c-e369-4449-8711-988c0d790f35",
   "metadata": {},
   "outputs": [],
   "source": [
    "import pandas as pd \n",
    "\n",
    "# Read the CSV file without the header\n",
    "kenya_electricity_demand_data = pd.read_csv(\"2030_OSeMOSYS.csv\", header=None)\n",
    "\n",
    "# Transpose the data to match the required shape (1, 8760)\n",
    "kenya_electricity_demand_data = kenya_electricity_demand_data.T\n",
    "\n",
    "# Convert to a NumPy array\n",
    "kenya_electricity_demand_data = kenya_electricity_demand_data.values\n"
   ]
  },
  {
   "cell_type": "code",
   "execution_count": 16,
   "id": "23450dad-abc4-4886-9a6a-344ab71a8513",
   "metadata": {},
   "outputs": [
    {
     "data": {
      "text/plain": [
       "(1, 8760)"
      ]
     },
     "execution_count": 16,
     "metadata": {},
     "output_type": "execute_result"
    }
   ],
   "source": [
    "kenya_electricity_demand_data.shape"
   ]
  },
  {
   "cell_type": "code",
   "execution_count": null,
   "id": "c0e2160f-76b6-4107-927a-e7a824c00766",
   "metadata": {},
   "outputs": [],
   "source": []
  }
 ],
 "metadata": {
  "kernelspec": {
   "display_name": "Python 3 (ipykernel)",
   "language": "python",
   "name": "python3"
  },
  "language_info": {
   "codemirror_mode": {
    "name": "ipython",
    "version": 3
   },
   "file_extension": ".py",
   "mimetype": "text/x-python",
   "name": "python",
   "nbconvert_exporter": "python",
   "pygments_lexer": "ipython3",
   "version": "3.11.8"
  }
 },
 "nbformat": 4,
 "nbformat_minor": 5
}
